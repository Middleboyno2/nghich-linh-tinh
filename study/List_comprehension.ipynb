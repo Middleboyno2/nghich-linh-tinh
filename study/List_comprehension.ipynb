{
 "cells": [
  {
   "cell_type": "markdown",
   "id": "10d0759a-1d51-40ff-9d04-38287139f680",
   "metadata": {},
   "source": [
    "## List Comprehension\n",
    "<a>[1. Python List Comprehension Syntax](#1)</a></br>\n",
    "<a>[2. Iteration with List Comprehension](#2)</a></br>\n",
    "<a>[3. Even list using List Comprehension](#3)</a></br>\n",
    "<a>[4. Matrix using List Comprehension](#4)</a></br>\n",
    "<a>[5. List Comprehensions vs For Loop](#5)</a></br>\n",
    "<a>[6. Time Analysis in List Comprehensions and Loop](#6)</a></br>\n",
    "<a>[7. Nested List Comprehensions](#7)</a></br>\n",
    "<a>[8. Python List Comprehension using If-else.](#8)</a></br>\n",
    "<a>[9. lambda arguments: expression](#9)</a></br>\n",
    "<a>[10. Nested IF with List Comprehension](#10)</a></br>\n",
    "<a>[11. Display a square of numbers from 1 to 10](#11)</a></br>\n",
    "<a>[12. Toggle the case of each character in a String](#12)</a></br>\n",
    "<a>[13. Reverse each string in a Tuple](#13)</a></br>\n",
    "<a>[14. Creating a list of Tuples from two separate Lists](#14)</a></br>\n",
    "<a>[15. Display the sum of digits of all the odd elements in a list.](#15)</a></br>"
   ]
  },
  {
   "cell_type": "markdown",
   "id": "5be622d0-0dd2-4542-8228-d822994a8606",
   "metadata": {},
   "source": [
    "<div id = '1'>1. Python List Comprehension Syntax</div>"
   ]
  },
  {
   "cell_type": "code",
   "execution_count": null,
   "id": "e29ea79f-36d9-4da1-9ea1-82bb1ed228ba",
   "metadata": {},
   "outputs": [],
   "source": [
    "# Syntax: newList = [ expression(element) for element in oldList if condition ] \n",
    "#expression: Đại diện cho thao tác bạn muốn thực hiện trên mọi mục trong vòng lặp.\n",
    "# thuật ngữ \"biến\" dùng để chỉ từng giá trị được lấy từ giá trị lặp.\n",
    "# Có thể lặp: Chỉ định chuỗi các phần tử bạn muốn lặp qua. (ví dụ: danh sách, bộ dữ liệu hoặc chuỗi).\n",
    "# điều kiện: (Tùy chọn) Bộ lọc giúp quyết định xem có nên thêm phần tử vào danh sách mới hay không."
   ]
  },
  {
   "cell_type": "code",
   "execution_count": 1,
   "id": "a90d1a48-f939-4db2-9b70-06682a1b012d",
   "metadata": {},
   "outputs": [
    {
     "name": "stdout",
     "output_type": "stream",
     "text": [
      "[1, 4, 9, 16, 25]\n"
     ]
    }
   ],
   "source": [
    "numbers = [1, 2, 3, 4, 5] \n",
    "squared = [x ** 2 for x in numbers] \n",
    "print(squared)"
   ]
  },
  {
   "cell_type": "markdown",
   "id": "3420ba94-dee3-4f95-8d39-6d16dc73ab2e",
   "metadata": {},
   "source": [
    "<div id = \"2\">2. Iteration with List Comprehension</div>"
   ]
  },
  {
   "cell_type": "code",
   "execution_count": 2,
   "id": "88676275-30e7-40b7-b27e-ae202618a18a",
   "metadata": {},
   "outputs": [
    {
     "name": "stdout",
     "output_type": "stream",
     "text": [
      "[1, 2, 3]\n"
     ]
    }
   ],
   "source": [
    "List = [character for character in [1, 2, 3]] \n",
    "  \n",
    "# Displaying list \n",
    "print(List)"
   ]
  },
  {
   "cell_type": "markdown",
   "id": "d4eacd76-3790-4af4-943d-dc4123e92437",
   "metadata": {},
   "source": [
    "<div id = \"3\">3. Even list using List Comprehension</div>"
   ]
  },
  {
   "cell_type": "code",
   "execution_count": 3,
   "id": "1ab25c34-d0a4-4680-a44d-2a68a9a0a54f",
   "metadata": {},
   "outputs": [
    {
     "name": "stdout",
     "output_type": "stream",
     "text": [
      "[0, 2, 4, 6, 8, 10]\n"
     ]
    }
   ],
   "source": [
    "list = [i for i in range(11) if i % 2 == 0] \n",
    "print(list)"
   ]
  },
  {
   "cell_type": "markdown",
   "id": "5af4ba40-5acb-4620-896e-b2b953856872",
   "metadata": {},
   "source": [
    "<div id = \"4\">4. Matrix using List Comprehension</div>"
   ]
  },
  {
   "cell_type": "code",
   "execution_count": 4,
   "id": "cf6513bc-534f-4f35-94ef-659842d10d95",
   "metadata": {},
   "outputs": [
    {
     "name": "stdout",
     "output_type": "stream",
     "text": [
      "[[0, 1, 2], [0, 1, 2], [0, 1, 2]]\n"
     ]
    }
   ],
   "source": [
    "matrix = [[j for j in range(3)] for i in range(3)] \n",
    "    \n",
    "print(matrix)"
   ]
  },
  {
   "cell_type": "markdown",
   "id": "b035bccb-c851-4899-8909-86b74897e719",
   "metadata": {},
   "source": [
    "<div id = \"5\">5. List Comprehensions vs For Loop</div>"
   ]
  },
  {
   "cell_type": "code",
   "execution_count": 7,
   "id": "29fe8434-30e3-4e11-bc94-3f4524f11da8",
   "metadata": {},
   "outputs": [
    {
     "name": "stdout",
     "output_type": "stream",
     "text": [
      "['G', 'E', 'E', 'K', 'S', ' ', '4', ' ', 'G', 'E', 'E', 'K', 'S', '!']\n"
     ]
    }
   ],
   "source": [
    "# Using list comprehension to iterate through loop \n",
    "List = [character.upper() for character in 'Geeks 4 Geeks!'] \n",
    "  \n",
    "# Displaying list \n",
    "print(List) "
   ]
  },
  {
   "cell_type": "markdown",
   "id": "6dacb159-04c3-483d-97df-570fe4d972ab",
   "metadata": {},
   "source": [
    "<div id = \"6\">6. Time Analysis in List Comprehensions and Loop</div>"
   ]
  },
  {
   "cell_type": "code",
   "execution_count": 19,
   "id": "6d246fda-517e-48ec-9680-93747d5ba3ea",
   "metadata": {},
   "outputs": [
    {
     "name": "stdout",
     "output_type": "stream",
     "text": [
      "Time taken for_loop: 0.32\n",
      "Time taken for list_comprehension: 0.33\n"
     ]
    }
   ],
   "source": [
    "# Import required module \n",
    "import time \n",
    "  \n",
    "  \n",
    "# define function to implement for loop \n",
    "def for_loop(n): \n",
    "    result = [] \n",
    "    for i in range(n): \n",
    "        result.append(i**2) \n",
    "    return result \n",
    "  \n",
    "  \n",
    "# define function to implement list comprehension \n",
    "def list_comprehension(n): \n",
    "    return [i**2 for i in range(n)] \n",
    "  \n",
    "\n",
    "# Driver Code \n",
    "  \n",
    "# Calculate time taken by for_loop() \n",
    "begin = time.time() \n",
    "for_loop(10**6) \n",
    "end = time.time() \n",
    "  \n",
    "# Display time taken by for_loop() \n",
    "print('Time taken for_loop:', round(end-begin, 2)) \n",
    "  \n",
    "# Calculate time takens by list_comprehension() \n",
    "begin = time.time() \n",
    "list_comprehension(10**6) \n",
    "end = time.time() \n",
    "  \n",
    "# Display time taken by for_loop() \n",
    "print('Time taken for list_comprehension:', round(end-begin, 2)) "
   ]
  },
  {
   "cell_type": "markdown",
   "id": "0e7d92f5-4e04-4d18-b6c9-16c609ce2a49",
   "metadata": {},
   "source": [
    "<div id = \"7\">7. Nested List Comprehensions</div>"
   ]
  },
  {
   "cell_type": "code",
   "execution_count": 22,
   "id": "933c3f37-d74e-46a7-a9ca-3c9f4e1d4a7d",
   "metadata": {},
   "outputs": [
    {
     "name": "stdout",
     "output_type": "stream",
     "text": [
      "[[0, 1, 2, 3, 4], [0, 1, 2, 3, 4], [0, 1, 2, 3, 4]]\n"
     ]
    }
   ],
   "source": [
    "matrix = [[j for j in range(5)] for i in range(3)] \n",
    "  \n",
    "print(matrix) "
   ]
  },
  {
   "cell_type": "markdown",
   "id": "13f4d14c-b1aa-42b9-90fc-2b12bd961c42",
   "metadata": {},
   "source": [
    "<div id = \"8\">8. List Comprehensions and Lambda</div>"
   ]
  },
  {
   "cell_type": "code",
   "execution_count": 4,
   "id": "c0e21eea-fc21-4b2b-8795-8e587aba742d",
   "metadata": {},
   "outputs": [
    {
     "name": "stdout",
     "output_type": "stream",
     "text": [
      "[10, 20, 30, 40, 50]\n"
     ]
    }
   ],
   "source": [
    "numbers = list(map(lambda i: i * 10,[i for i in range(1, 6)])) \n",
    "# giải thích dễ hiểu nhất là mỗi lần vòng lặp for lặp lại trong khoảng (1,6) thì nó trả về i tương ứng\n",
    "# lambda arguments: expression đây là công thức tổng quát của nó, thì chúng ta có thể hiểu rằng\n",
    "# thằng i trên được trả về sẽ gán vào arguments hay còn gọi là tham số, sau đó tham số sẽ gán vào expression(biểu thức)\n",
    "# biểu thức sẽ dựa vào giá trị tham số i trả về kết quả tính toán của biểu thức\n",
    "print(numbers) "
   ]
  },
  {
   "cell_type": "markdown",
   "id": "1f4214af-70bd-415c-a336-9633bab0f023",
   "metadata": {},
   "source": [
    "<div id = \"9\">9. Python List Comprehension using If-else.</div>"
   ]
  },
  {
   "cell_type": "code",
   "execution_count": 9,
   "id": "2e2c0531-3852-4ab8-94f0-95e7f1947ddd",
   "metadata": {},
   "outputs": [
    {
     "name": "stdout",
     "output_type": "stream",
     "text": [
      "['số chẵn', 'số lẻ', 'số chẵn', 'số lẻ', 'số chẵn', 'số lẻ', 'số chẵn', 'số lẻ', 'số chẵn', 'số lẻ']\n"
     ]
    }
   ],
   "source": [
    "lis = [\"số chẵn\" if i % 2 == 0 else \"số lẻ\" for i in range(10)]\n",
    "# h chúng ta phân tích nó ra, giá trị trả về mỗi vòng lặp for là i, nó trả về kết quả số chẵn nếu i %2 == 0 \n",
    "# còn không phải thì sẽ trả về số lẻ \n",
    "print(lis)"
   ]
  },
  {
   "cell_type": "markdown",
   "id": "a4f3535d-2c00-43be-8e78-1237d9e1a846",
   "metadata": {},
   "source": [
    "<div id = \"10\">10. Nested IF with List Comprehension</div>"
   ]
  },
  {
   "cell_type": "code",
   "execution_count": 10,
   "id": "d3437c90-6404-4792-8d9a-7dcf657a2434",
   "metadata": {},
   "outputs": [
    {
     "name": "stdout",
     "output_type": "stream",
     "text": [
      "[0, 10, 20, 30, 40, 50, 60, 70, 80, 90]\n"
     ]
    }
   ],
   "source": [
    "lis = [num for num in range(100) if num % 5 == 0 if num % 10 == 0] \n",
    "# thằng num được trả về từ vòng for sẽ gặp điều kiện đầu tiên là chia hết cho 5 bằng 0 rồi xét tiếp nếu chia hết cho 10 = 0\n",
    "print(lis)"
   ]
  },
  {
   "cell_type": "markdown",
   "id": "0c8d3a0f-8d34-4f0c-8b68-a2ea1246651e",
   "metadata": {},
   "source": [
    "<div id = \"11\">11. Display a square of numbers from 1 to 10</div>"
   ]
  },
  {
   "cell_type": "code",
   "execution_count": 12,
   "id": "cb8c0be9-830b-4da9-bc30-2bda57fdc0ee",
   "metadata": {},
   "outputs": [
    {
     "name": "stdout",
     "output_type": "stream",
     "text": [
      "[[10, 40, 70], [20, 50, 80], [30, 60, 90]]\n"
     ]
    }
   ],
   "source": [
    "# Assign matrix \n",
    "twoDMatrix = [[10, 20, 30], \n",
    "              [40, 50, 60], \n",
    "              [70, 80, 90]] \n",
    "  \n",
    "# Generate transpose \n",
    "trans = [[i[j] for i in twoDMatrix] for j in range(len(twoDMatrix[0]))] \n",
    "# nhìn lằng nhằng vcl, đầu tiên thì duyệt for j ... trước\n",
    "# ví dụ đầu tiên nó trả về giá trị j = 1 thì j sẽ gán tiếp cho vòng for i ...\n",
    "# giống kiểu for lồng nhau ấy for j ... là đầu thằng for i là thằng thứ 2\n",
    "# duyệt xong thằng for thứ 2 thì ta được 0[0], 1[0], 2[0] tương ứng trong twDMatrix \n",
    "# mà dựa vào thằng for j ta thấy còn 2 vòng lặp sẽ xảy ra như trên thay j thôi\n",
    "print(trans) "
   ]
  },
  {
   "cell_type": "markdown",
   "id": "934564a2-db79-4505-9b62-ba400848a1ad",
   "metadata": {},
   "source": [
    "<div id = \"12\">12. Toggle the case of each character in a String</div>"
   ]
  },
  {
   "cell_type": "code",
   "execution_count": 13,
   "id": "370656ed-de50-45e1-9498-1665de2225d2",
   "metadata": {},
   "outputs": [
    {
     "name": "stdout",
     "output_type": "stream",
     "text": [
      "['g', 'E', 'E', 'K', 'S', '\\x14', 'g', 'E', 'E', 'K', 'S']\n"
     ]
    }
   ],
   "source": [
    "string = 'Geeks4Geeks'\n",
    "  \n",
    "# Toggle case of each character \n",
    "List = list(map(lambda i: chr(ord(i) ^ 32), string)) \n",
    "  \n",
    "# Display list \n",
    "print(List) "
   ]
  },
  {
   "cell_type": "markdown",
   "id": "4813e7f9-8888-4060-aabc-21681305ca11",
   "metadata": {},
   "source": [
    "<div id = \"13\">13. Reverse each string in a Tuple</div>"
   ]
  },
  {
   "cell_type": "code",
   "execution_count": 14,
   "id": "7da0b878-df81-492c-a634-e582c1b58108",
   "metadata": {},
   "outputs": [
    {
     "name": "stdout",
     "output_type": "stream",
     "text": [
      "['skeeG', 'rof', 'skeeG']\n"
     ]
    }
   ],
   "source": [
    "List = [string[::-1] for string in ('Geeks', 'for', 'Geeks')] \n",
    "# nó có công dụng đảo ngược giống hàm reverse ấy, mỗi lần trả về giá trị string thì nó đảo ngược lại chuỗi\n",
    "# Display list \n",
    "print(List) "
   ]
  },
  {
   "cell_type": "markdown",
   "id": "317e5d3c-afe3-4ecd-9327-6bab6a6f25d0",
   "metadata": {},
   "source": [
    "<div id = \"14\">14. Creating a list of Tuples from two separate Lists</div>"
   ]
  },
  {
   "cell_type": "code",
   "execution_count": 15,
   "id": "e09489fb-8c30-411e-8db0-b0e71980db93",
   "metadata": {},
   "outputs": [
    {
     "name": "stdout",
     "output_type": "stream",
     "text": [
      "[('G', 25), ('G', 30), ('g', 35)]\n"
     ]
    }
   ],
   "source": [
    "names = [\"G\", \"G\", \"g\"] \n",
    "ages = [25, 30, 35] \n",
    "person_tuples = [(name, age) for name, age in zip(names, ages)] \n",
    "# muốn biết tại sao nó thành tuple thì hỏi thằng zip()\n",
    "# nó gộp names và ages tương ứng thành 1 tuple\n",
    "print(person_tuples)"
   ]
  },
  {
   "cell_type": "markdown",
   "id": "c0042105-77ca-495c-8b2e-18a80a378c31",
   "metadata": {},
   "source": [
    "<div id = \"15\">15. Display the sum of digits of all the odd elements in a list.</div>"
   ]
  },
  {
   "cell_type": "code",
   "execution_count": 16,
   "id": "f79852b8-020a-4e6d-9a74-ae24c0a5fd49",
   "metadata": {},
   "outputs": [
    {
     "name": "stdout",
     "output_type": "stream",
     "text": [
      "[16, 3, 18, 18]\n"
     ]
    }
   ],
   "source": [
    "# Explicit function \n",
    "def digitSum(n): \n",
    "    dsum = 0\n",
    "    for ele in str(n): \n",
    "        dsum += int(ele) \n",
    "    return dsum \n",
    "  \n",
    "  \n",
    "# Initializing list \n",
    "List = [367, 111, 562, 945, 6726, 873] \n",
    "  \n",
    "# Using the function on odd elements of the list \n",
    "newList = [digitSum(i) for i in List if i & 1] \n",
    "  \n",
    "# Displaying new list \n",
    "print(newList) "
   ]
  },
  {
   "cell_type": "code",
   "execution_count": null,
   "id": "fa11bb4c-49df-4984-b6cf-dc2262a4b0c8",
   "metadata": {},
   "outputs": [],
   "source": []
  }
 ],
 "metadata": {
  "kernelspec": {
   "display_name": "Python 3 (ipykernel)",
   "language": "python",
   "name": "python3"
  },
  "language_info": {
   "codemirror_mode": {
    "name": "ipython",
    "version": 3
   },
   "file_extension": ".py",
   "mimetype": "text/x-python",
   "name": "python",
   "nbconvert_exporter": "python",
   "pygments_lexer": "ipython3",
   "version": "3.11.7"
  }
 },
 "nbformat": 4,
 "nbformat_minor": 5
}
