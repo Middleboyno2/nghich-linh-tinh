{
 "cells": [
  {
   "cell_type": "code",
   "execution_count": 1,
   "metadata": {},
   "outputs": [],
   "source": [
    "import numpy as np\n",
    "import pandas as pd\n",
    "import matplotlib.pyplot as plt\n",
    "import seaborn as sns\n",
    "sns.set_style(\"darkgrid\")"
   ]
  },
  {
   "cell_type": "code",
   "execution_count": 16,
   "metadata": {},
   "outputs": [
    {
     "data": {
      "text/html": [
       "<div>\n",
       "<style scoped>\n",
       "    .dataframe tbody tr th:only-of-type {\n",
       "        vertical-align: middle;\n",
       "    }\n",
       "\n",
       "    .dataframe tbody tr th {\n",
       "        vertical-align: top;\n",
       "    }\n",
       "\n",
       "    .dataframe thead th {\n",
       "        text-align: right;\n",
       "    }\n",
       "</style>\n",
       "<table border=\"1\" class=\"dataframe\">\n",
       "  <thead>\n",
       "    <tr style=\"text-align: right;\">\n",
       "      <th></th>\n",
       "      <th>glucose</th>\n",
       "      <th>bloodpressure</th>\n",
       "      <th>diabetes</th>\n",
       "    </tr>\n",
       "  </thead>\n",
       "  <tbody>\n",
       "    <tr>\n",
       "      <th>0</th>\n",
       "      <td>40</td>\n",
       "      <td>85</td>\n",
       "      <td>0</td>\n",
       "    </tr>\n",
       "    <tr>\n",
       "      <th>1</th>\n",
       "      <td>40</td>\n",
       "      <td>92</td>\n",
       "      <td>0</td>\n",
       "    </tr>\n",
       "    <tr>\n",
       "      <th>2</th>\n",
       "      <td>45</td>\n",
       "      <td>63</td>\n",
       "      <td>1</td>\n",
       "    </tr>\n",
       "    <tr>\n",
       "      <th>3</th>\n",
       "      <td>45</td>\n",
       "      <td>80</td>\n",
       "      <td>0</td>\n",
       "    </tr>\n",
       "    <tr>\n",
       "      <th>4</th>\n",
       "      <td>40</td>\n",
       "      <td>73</td>\n",
       "      <td>1</td>\n",
       "    </tr>\n",
       "    <tr>\n",
       "      <th>5</th>\n",
       "      <td>45</td>\n",
       "      <td>82</td>\n",
       "      <td>0</td>\n",
       "    </tr>\n",
       "    <tr>\n",
       "      <th>6</th>\n",
       "      <td>40</td>\n",
       "      <td>85</td>\n",
       "      <td>0</td>\n",
       "    </tr>\n",
       "    <tr>\n",
       "      <th>7</th>\n",
       "      <td>30</td>\n",
       "      <td>63</td>\n",
       "      <td>1</td>\n",
       "    </tr>\n",
       "    <tr>\n",
       "      <th>8</th>\n",
       "      <td>65</td>\n",
       "      <td>65</td>\n",
       "      <td>1</td>\n",
       "    </tr>\n",
       "    <tr>\n",
       "      <th>9</th>\n",
       "      <td>45</td>\n",
       "      <td>82</td>\n",
       "      <td>0</td>\n",
       "    </tr>\n",
       "    <tr>\n",
       "      <th>10</th>\n",
       "      <td>35</td>\n",
       "      <td>73</td>\n",
       "      <td>1</td>\n",
       "    </tr>\n",
       "    <tr>\n",
       "      <th>11</th>\n",
       "      <td>45</td>\n",
       "      <td>90</td>\n",
       "      <td>0</td>\n",
       "    </tr>\n",
       "    <tr>\n",
       "      <th>12</th>\n",
       "      <td>50</td>\n",
       "      <td>68</td>\n",
       "      <td>1</td>\n",
       "    </tr>\n",
       "    <tr>\n",
       "      <th>13</th>\n",
       "      <td>40</td>\n",
       "      <td>93</td>\n",
       "      <td>0</td>\n",
       "    </tr>\n",
       "    <tr>\n",
       "      <th>14</th>\n",
       "      <td>35</td>\n",
       "      <td>80</td>\n",
       "      <td>1</td>\n",
       "    </tr>\n",
       "    <tr>\n",
       "      <th>15</th>\n",
       "      <td>50</td>\n",
       "      <td>70</td>\n",
       "      <td>1</td>\n",
       "    </tr>\n",
       "    <tr>\n",
       "      <th>16</th>\n",
       "      <td>40</td>\n",
       "      <td>73</td>\n",
       "      <td>1</td>\n",
       "    </tr>\n",
       "    <tr>\n",
       "      <th>17</th>\n",
       "      <td>40</td>\n",
       "      <td>67</td>\n",
       "      <td>1</td>\n",
       "    </tr>\n",
       "    <tr>\n",
       "      <th>18</th>\n",
       "      <td>40</td>\n",
       "      <td>75</td>\n",
       "      <td>1</td>\n",
       "    </tr>\n",
       "    <tr>\n",
       "      <th>19</th>\n",
       "      <td>40</td>\n",
       "      <td>80</td>\n",
       "      <td>1</td>\n",
       "    </tr>\n",
       "  </tbody>\n",
       "</table>\n",
       "</div>"
      ],
      "text/plain": [
       "    glucose  bloodpressure  diabetes\n",
       "0        40             85         0\n",
       "1        40             92         0\n",
       "2        45             63         1\n",
       "3        45             80         0\n",
       "4        40             73         1\n",
       "5        45             82         0\n",
       "6        40             85         0\n",
       "7        30             63         1\n",
       "8        65             65         1\n",
       "9        45             82         0\n",
       "10       35             73         1\n",
       "11       45             90         0\n",
       "12       50             68         1\n",
       "13       40             93         0\n",
       "14       35             80         1\n",
       "15       50             70         1\n",
       "16       40             73         1\n",
       "17       40             67         1\n",
       "18       40             75         1\n",
       "19       40             80         1"
      ]
     },
     "execution_count": 16,
     "metadata": {},
     "output_type": "execute_result"
    }
   ],
   "source": [
    "data = pd.read_csv(\"Naive-Bayes-Classification-Data.csv\")\n",
    "data.head(20)"
   ]
  },
  {
   "cell_type": "code",
   "execution_count": 17,
   "metadata": {},
   "outputs": [
    {
     "name": "stdout",
     "output_type": "stream",
     "text": [
      "497\n"
     ]
    }
   ],
   "source": [
    "a = data[\"diabetes\"]\n",
    "P_no = 0\n",
    "for i in a:\n",
    "    if i == 0:\n",
    "        P_no+=1\n",
    "print(P_no)"
   ]
  },
  {
   "cell_type": "code",
   "execution_count": null,
   "metadata": {},
   "outputs": [],
   "source": []
  },
  {
   "cell_type": "code",
   "execution_count": 18,
   "metadata": {},
   "outputs": [
    {
     "name": "stdout",
     "output_type": "stream",
     "text": [
      "498\n"
     ]
    }
   ],
   "source": [
    "a = data[\"diabetes\"]\n",
    "P_yes = 0\n",
    "for i in a:\n",
    "    if i == 1:\n",
    "        P_yes+=1\n",
    "print(P_yes)\n"
   ]
  },
  {
   "cell_type": "code",
   "execution_count": 46,
   "metadata": {},
   "outputs": [
    {
     "name": "stdout",
     "output_type": "stream",
     "text": [
      "11 29 0 0 498\n",
      "P_x_yes = 0.00000373\n",
      "P_x_yes = 0.00000374\n"
     ]
    }
   ],
   "source": [
    "row_sum = len(a)\n",
    "a = data[\"glucose\"]\n",
    "b = data[\"bloodpressure\"]\n",
    "c = data[\"diabetes\"]\n",
    "dem_a, dem_b = dem(row_sum, a, b)\n",
    "P_x_yes = 0\n",
    "P_x_no = 0\n",
    "d_x_a_yes, d_x_a_no, d_x_b_yes, d_x_b_no = xaa(row_sum, a, b)\n",
    "if d_x_a_yes == 0 or d_x_a_no == 0 or d_x_b_yes == 0 or d_x_b_no == 0:\n",
    "    \n",
    "    print(dem_a, dem_b, d_x_a_yes, d_x_b_yes, P_yes)\n",
    "    P_x_yes = float(((d_x_a_yes + 1)/(P_yes+ dem_a))*((d_x_b_yes+1)/(P_yes+ dem_b)))\n",
    "    P_x_no = float(((d_x_a_no + 1)/(P_no+ dem_a))*((d_x_b_no+1)/(P_no+ dem_b)))\n",
    "    print(\"P_x_yes = {:.8f}\".format(P_x_yes))\n",
    "    print(\"P_x_yes = {:.8f}\".format(P_x_no))\n",
    "else:\n",
    "    print( d_x_a_yes, d_x_b_yes, P_yes)\n",
    "    P_x_yes = float(((d_x_a_yes)/(P_yes))*((d_x_b_yes)/(P_yes)))\n",
    "    P_x_no = float(((d_x_a_no)/(P_no))*((d_x_b_no)/(P_no)))\n",
    "    print(\"P_x_yes = {:.8f}\".format(P_x_yes))\n",
    "    print(\"P_x_no = {:.8f}\".format(P_x_no))\n",
    "\n",
    "    \n",
    "\n"
   ]
  },
  {
   "cell_type": "code",
   "execution_count": 47,
   "metadata": {},
   "outputs": [
    {
     "name": "stdout",
     "output_type": "stream",
     "text": [
      "3.6691944203867155e-06\n"
     ]
    }
   ],
   "source": [
    "P_x = P_x_yes*((P_yes+1)/(row_sum+dem_a)) + P_x_no*((P_no+1)/(row_sum+dem_b))\n",
    "print(P_x)"
   ]
  },
  {
   "cell_type": "code",
   "execution_count": 50,
   "metadata": {},
   "outputs": [
    {
     "name": "stdout",
     "output_type": "stream",
     "text": [
      "thằng này bị \n"
     ]
    }
   ],
   "source": [
    "P_yes_x = (P_x_yes*((P_yes+1)/(row_sum+dem_a)))/P_x\n",
    "P_no_x = (P_x_no*((P_no+1)/(row_sum+dem_b)))/P_x\n",
    "if P_yes_x > P_no_x: \n",
    "    print(\"thằng này bị \") \n",
    "else: \n",
    "    print(\"thằng này éo\")"
   ]
  },
  {
   "cell_type": "code",
   "execution_count": 38,
   "metadata": {},
   "outputs": [],
   "source": [
    "def xaa(row_sum, a,b):\n",
    "    d_x_a_yes =0\n",
    "    d_x_b_yes =0\n",
    "    d_x_a_no = 0\n",
    "    d_x_b_no = 0\n",
    "    \n",
    "    \n",
    "    for i in range(1,row_sum):\n",
    "        if a[i] == 47 and c[i] == 1:\n",
    "            d_x_a_yes += 1\n",
    "        elif(a[i] == 47 and c[i] == 0):\n",
    "            d_x_a_no +=1\n",
    "        if b[i] == 53 and c[i] == 1:\n",
    "            d_x_b_yes += 1\n",
    "        elif b[i] == 53 and c[i] == 1:\n",
    "            d_x_b_no +=1\n",
    "    return int(d_x_a_yes), int(d_x_a_no), int(d_x_b_yes), int(d_x_b_no)\n",
    "             "
   ]
  },
  {
   "cell_type": "code",
   "execution_count": 31,
   "metadata": {},
   "outputs": [],
   "source": [
    "def dem(row_sum, a, b):\n",
    "    x = []\n",
    "    y = []\n",
    "    for i in range(row_sum):\n",
    "        if a[i] not in x:\n",
    "            x.append(a[i])\n",
    "        if b[i] not in y:\n",
    "            y.append(b[i])\n",
    "    return int(len(x)), int(len(y) )   "
   ]
  }
 ],
 "metadata": {
  "kernelspec": {
   "display_name": "Python 3",
   "language": "python",
   "name": "python3"
  },
  "language_info": {
   "codemirror_mode": {
    "name": "ipython",
    "version": 3
   },
   "file_extension": ".py",
   "mimetype": "text/x-python",
   "name": "python",
   "nbconvert_exporter": "python",
   "pygments_lexer": "ipython3",
   "version": "3.12.0"
  }
 },
 "nbformat": 4,
 "nbformat_minor": 2
}
