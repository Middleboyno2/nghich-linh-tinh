{
 "cells": [
  {
   "cell_type": "markdown",
   "id": "7de16672-9abc-45a1-9715-fea9ff50282c",
   "metadata": {},
   "source": [
    "## dictionary comprehension\n",
    "<a>[Example dictionary comprehension](#1)</a> <br>\n",
    "<a>[Using fromkeys() Method](#2)</a> <br>\n",
    "<a>[Using dictionary comprehension make dictionary](#3)</a>\n",
    "<a>[Using conditional statements in dictionary comprehension](#4)</a>\n",
    "<a>[Using nested dictionary comprehension](#5)</a>"
   ]
  },
  {
   "cell_type": "markdown",
   "id": "ea8c6866-b9d2-43a6-8f68-4a0e8403061b",
   "metadata": {},
   "source": [
    "<div id = \"1\">1. Example dictionary comprehension</div>"
   ]
  },
  {
   "cell_type": "code",
   "execution_count": 6,
   "id": "476d3f50-74d0-4371-af93-7a590b8742ea",
   "metadata": {},
   "outputs": [
    {
     "name": "stdout",
     "output_type": "stream",
     "text": [
      "{'a': 1, 'b': 2, 'c': 3, 'd': 4, 'e': 5}\n"
     ]
    }
   ],
   "source": [
    "keys = ['a','b','c','d','e']\n",
    "values = [1,2,3,4,5]  \n",
    "# hàm zip dùng để gộp phần tử tại vị trí tương ứng trong 2 list lại với nhau thành 1 tuple\n",
    "# kết quả sẽ trả về 1 dict gồm key và value tạo thành từ những tuple trên\n",
    "dic = {k:v for (k,v) in zip(keys, values)}\n",
    "print(dic)"
   ]
  },
  {
   "cell_type": "markdown",
   "id": "3a9d982d-0efb-493c-bc88-12346e88cf17",
   "metadata": {},
   "source": [
    "<div id = \"2\">2. Using fromkeys() Method</div>"
   ]
  },
  {
   "cell_type": "code",
   "execution_count": 7,
   "id": "87573b49-dee5-48ae-8fb5-fca53122a536",
   "metadata": {},
   "outputs": [
    {
     "name": "stdout",
     "output_type": "stream",
     "text": [
      "{0: True, 1: True, 2: True, 3: True, 4: True}\n"
     ]
    }
   ],
   "source": [
    "dic=dict.fromkeys(range(5), True)\n",
    "# dict.fromkeys(iterable, value=None)\n",
    "# iterable: Bắt buộc. Một iterable (như list, tuple, string, etc.) chứa các khóa cho từ điển mới.\n",
    "# value: Tùy chọn. Giá trị mặc định sẽ được gán cho tất cả các khóa trong từ điển mới. Nếu không được cung cấp, giá trị mặc định là None.\n",
    "print(dic)"
   ]
  },
  {
   "cell_type": "markdown",
   "id": "76fd0347-f74a-4e06-9fca-76083fd073a7",
   "metadata": {},
   "source": [
    "<div id = \"3\">3. Using dictionary comprehension make dictionary</div>"
   ]
  },
  {
   "cell_type": "code",
   "execution_count": 1,
   "id": "fb0f0776-c8d4-43fe-b0a1-6f19492791b3",
   "metadata": {},
   "outputs": [
    {
     "name": "stdout",
     "output_type": "stream",
     "text": [
      "{1: 1, 2: 4, 3: 9, 4: 16, 5: 25}\n",
      "{'C': 'ccc', 'O': 'ooo', 'D': 'ddd', 'I': 'iii', 'N': 'nnn', 'G': 'ggg', ' ': '   '}\n"
     ]
    }
   ],
   "source": [
    "# có thể hiểu là vòng lặp for sẽ trả về phần tử theo thứ tự và giá trị trả về\n",
    "# của mỗi một vòng lặp rồi gán cho x trong 2 vế x : x**2, mỗi vế giống như 2 variable riêng biệt\n",
    "# sẽ dùng giá trị trả về để thực hiện phép toán và trả về tiếp \n",
    "myDict = {x: x**2 for x in [1,2,3,4,5]}\n",
    "print (myDict)\n",
    "\n",
    "sDict = {x.upper(): x*3 for x in 'coding '}\n",
    "print (sDict)"
   ]
  },
  {
   "cell_type": "markdown",
   "id": "559e2522-aa26-4bc4-bc19-54e38fc217f2",
   "metadata": {},
   "source": [
    "<div id = \"4\">4. Using dictionary comprehension make dictionary</div>"
   ]
  },
  {
   "cell_type": "code",
   "execution_count": 10,
   "id": "ae2d523a-fc11-45ec-a1f1-8545c43d8f4f",
   "metadata": {},
   "outputs": [
    {
     "name": "stdout",
     "output_type": "stream",
     "text": [
      "{0: 0, 2: 8, 4: 64, 6: 216, 8: 512}\n"
     ]
    }
   ],
   "source": [
    "newdict = {x: x**3 for x in range(10) if x**3 % 4 == 0}\n",
    "print(newdict)"
   ]
  },
  {
   "cell_type": "markdown",
   "id": "946fe7eb-7364-45d4-b9f2-167fbdc2b2e0",
   "metadata": {},
   "source": [
    "<div id = \"5\">5. Using nested dictionary comprehension</div>"
   ]
  },
  {
   "cell_type": "code",
   "execution_count": 11,
   "id": "abda0c64-9a53-4a9b-a482-72b7d0fd155d",
   "metadata": {},
   "outputs": [
    {
     "name": "stdout",
     "output_type": "stream",
     "text": [
      "{'G': {'G': 'GG', 'F': 'GF'}, 'F': {'G': 'FG', 'F': 'FF'}}\n"
     ]
    }
   ],
   "source": [
    "# given string\n",
    "l=\"GFG\"\n",
    " \n",
    "# using dictionary comprehension\n",
    "# first, vòng lặp nó sẽ trả về thằng mặt lol 'G' và truyền nó cho 2 vế(ngăn bởi dấu ':')   x: {y: x + y for y in l}\n",
    "#vế đầu nhìn phát ra luôn, vế sau thì\n",
    "# dm đến vế sau,{y: x + y for y in l} thì cũng giống như vòng lặp for lồng nhau thôi\n",
    "# nhưng khác ở chỗ nhớ rằng key trong dict là duy nhất nên khi duyệt đến thằng phần tử thứ 3 là \"G\"\n",
    "# nó giống phần tử thứ 1 đã duyệt nên không được lấy làm key nữa\n",
    "# vì sao nó trả về 2 dict đấy\n",
    "dic = {\n",
    "    x: {y: x + y for y in l} for x in l\n",
    "}\n",
    " \n",
    "print(dic)"
   ]
  },
  {
   "cell_type": "code",
   "execution_count": null,
   "id": "8c3d58a5-2116-4c03-b8de-7a105ef83bdc",
   "metadata": {},
   "outputs": [],
   "source": []
  },
  {
   "cell_type": "code",
   "execution_count": null,
   "id": "32287df3-4fcc-44d8-a69f-5d70d4b95cf8",
   "metadata": {},
   "outputs": [],
   "source": []
  },
  {
   "cell_type": "code",
   "execution_count": null,
   "id": "e83f9297-b5fd-4742-91b1-5564b83650dd",
   "metadata": {},
   "outputs": [],
   "source": []
  }
 ],
 "metadata": {
  "kernelspec": {
   "display_name": "Python 3 (ipykernel)",
   "language": "python",
   "name": "python3"
  },
  "language_info": {
   "codemirror_mode": {
    "name": "ipython",
    "version": 3
   },
   "file_extension": ".py",
   "mimetype": "text/x-python",
   "name": "python",
   "nbconvert_exporter": "python",
   "pygments_lexer": "ipython3",
   "version": "3.11.7"
  }
 },
 "nbformat": 4,
 "nbformat_minor": 5
}
