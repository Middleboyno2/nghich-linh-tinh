{
 "cells": [
  {
   "cell_type": "code",
   "execution_count": 3,
   "id": "f6394dd5-d388-4fec-8646-68361648eb92",
   "metadata": {},
   "outputs": [],
   "source": [
    "import numpy as np"
   ]
  },
  {
   "cell_type": "code",
   "execution_count": 4,
   "id": "0ae9eb1e-5aa4-4135-865c-f79fb4c3f176",
   "metadata": {},
   "outputs": [],
   "source": [
    "# vector length\n",
    "def compute_vector_length(vector):\n",
    "    # *********** Your code here ***********\n",
    "    # input vào sẽ là 1 mảng\n",
    "    if vector: \n",
    "        len_of_vector = 0\n",
    "        for i in vector:\n",
    "            len_of_vector += int(i) **2\n",
    "        len_of_vector = len_of_vector ** (1/2)\n",
    "        return len_of_vector\n",
    "    return 0"
   ]
  },
  {
   "cell_type": "code",
   "execution_count": 5,
   "id": "eba59188-a1d6-4a1f-8896-bbb8d7a95f44",
   "metadata": {},
   "outputs": [],
   "source": [
    "def compute_vector_length_1(vector):\n",
    "    # Compute the length of the vector using NumPy's norm function\n",
    "    len_of_vector = np.linalg.norm(vector)\n",
    "    return len_of_vector"
   ]
  },
  {
   "cell_type": "code",
   "execution_count": 6,
   "id": "e29c8b69-ad24-486b-9f7b-c7e19867bd1c",
   "metadata": {},
   "outputs": [
    {
     "name": "stdout",
     "output_type": "stream",
     "text": [
      "7.280109889280518\n",
      "7.280109889280518\n",
      "7.280109889280518\n"
     ]
    }
   ],
   "source": [
    "a = [1, 4, 6]\n",
    "r = ((1*1) + (4*4) + (6*6))**0.5\n",
    "print(r)\n",
    "print(compute_vector_length(a))\n",
    "print(compute_vector_length_1(a))"
   ]
  },
  {
   "cell_type": "code",
   "execution_count": 7,
   "id": "eab8ba22-c20b-45c3-b72b-54ff022f76a3",
   "metadata": {},
   "outputs": [],
   "source": [
    "# dot product\n",
    "def compute_dot_product(vector1, vector2):\n",
    "    # *********** Your code here ***********\n",
    "    if vector1 and vector2:\n",
    "        result = 0\n",
    "        for i in range(0,len(vector1)):\n",
    "            result += (int)(vector1[i]) * (int)(vector2[i])\n",
    "        return result\n",
    "    else:\n",
    "        return 0"
   ]
  },
  {
   "cell_type": "code",
   "execution_count": 8,
   "id": "dd023fb9-d5ea-47b0-8d1a-37c2ce323b86",
   "metadata": {},
   "outputs": [],
   "source": [
    "def compute_dot_product_1(vector1, vector2):\n",
    "    # Compute the dot product using NumPy's dot function\n",
    "    result = np.dot(vector1, vector2)\n",
    "    return result"
   ]
  },
  {
   "cell_type": "code",
   "execution_count": 9,
   "id": "c2098e4f-c05d-4d2f-9709-fb08ca4ba249",
   "metadata": {},
   "outputs": [
    {
     "name": "stdout",
     "output_type": "stream",
     "text": [
      "44\n",
      "44\n",
      "44\n"
     ]
    }
   ],
   "source": [
    "a = [1, 4, 6]\n",
    "b = [2, 3, 5]\n",
    "r = ((1*2) + (4*3) + (6*5))\n",
    "print(r)\n",
    "print(compute_dot_product(a, b))\n",
    "print(compute_dot_product_1(a, b))"
   ]
  },
  {
   "cell_type": "code",
   "execution_count": 10,
   "id": "bef86503-f920-4d53-91f7-7b5d9e4d62ae",
   "metadata": {},
   "outputs": [],
   "source": [
    "def matrix_multi_vector(matrix, vector):\n",
    "    # *********** Your code here ***********\n",
    "    result = []\n",
    "    for row in matrix:\n",
    "        a = compute_dot_product(row, vector)\n",
    "        result.append(a)\n",
    "    return result"
   ]
  },
  {
   "cell_type": "code",
   "execution_count": 11,
   "id": "cda57515-d5ee-476e-bf60-c7c799ddc799",
   "metadata": {},
   "outputs": [],
   "source": [
    "def matrix_multi_vector_1(matrix, vector):\n",
    "    # Compute the matrix-vector multiplication using NumPy's dot function\n",
    "    result = np.dot(matrix, vector)\n",
    "    return result"
   ]
  },
  {
   "cell_type": "code",
   "execution_count": 12,
   "id": "8b6d64de-0db7-4ae4-8427-3cfa4cf4a0bf",
   "metadata": {},
   "outputs": [
    {
     "name": "stdout",
     "output_type": "stream",
     "text": [
      "[39, 37]\n",
      "[39 37]\n"
     ]
    }
   ],
   "source": [
    "b = [[1, 4, 6], [2, 3, 5 ]]\n",
    "a = [5, 4, 3]\n",
    "print(matrix_multi_vector(b, a))\n",
    "print(matrix_multi_vector_1(b, a))"
   ]
  },
  {
   "cell_type": "code",
   "execution_count": 15,
   "id": "e02063c5-379b-4cdc-9f95-b96df51fb341",
   "metadata": {},
   "outputs": [],
   "source": [
    "# matrix x matrix\n",
    "def matrix_multi_matrix(matrix1, matrix2):\n",
    "    # *********** Your code here ***********\n",
    "    len_of_vector = []\n",
    "    for i in range(0, len(matrix1)):\n",
    "        a = compute_dot_product(matrix1[i], matrix2[i])\n",
    "        len_of_vector.append(a)\n",
    "    return len_of_vector"
   ]
  },
  {
   "cell_type": "code",
   "execution_count": 28,
   "id": "9a99885e-032a-4bd3-9891-10c0db9e1b46",
   "metadata": {},
   "outputs": [
    {
     "name": "stdout",
     "output_type": "stream",
     "text": [
      "[[73 45]\n",
      " [63 37]]\n"
     ]
    }
   ],
   "source": [
    "a = np.array([[1, 4, 6], [2, 3, 5]])\n",
    "b = np.array([[3, 4, 9], [1, 5, 4]])\n",
    "b_trans = b.T\n",
    "c = np.dot(a, b_trans)\n",
    "print(c)\n",
    "# print(matrix_multi_matrix(a, b))"
   ]
  },
  {
   "cell_type": "code",
   "execution_count": null,
   "id": "b80c8d73-6fbf-4e84-b77f-c98c29659453",
   "metadata": {},
   "outputs": [],
   "source": []
  }
 ],
 "metadata": {
  "kernelspec": {
   "display_name": "Python 3 (ipykernel)",
   "language": "python",
   "name": "python3"
  },
  "language_info": {
   "codemirror_mode": {
    "name": "ipython",
    "version": 3
   },
   "file_extension": ".py",
   "mimetype": "text/x-python",
   "name": "python",
   "nbconvert_exporter": "python",
   "pygments_lexer": "ipython3",
   "version": "3.11.7"
  }
 },
 "nbformat": 4,
 "nbformat_minor": 5
}
